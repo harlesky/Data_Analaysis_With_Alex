{
 "cells": [
  {
   "cell_type": "markdown",
   "metadata": {},
   "source": [
    "Building a BMI Calculator"
   ]
  },
  {
   "cell_type": "code",
   "execution_count": null,
   "metadata": {},
   "outputs": [
    {
     "name": "stdout",
     "output_type": "stream",
     "text": [
      "25.101869355177485\n",
      "170, You are overweight, need to exercise more, it will begood for your health\n"
     ]
    }
   ],
   "source": [
    "name = input(\"Enter your name\")\n",
    "weight = int(input(\"Enter your weight in pounds: \"))\n",
    "height = int(input(\"Enter your height in inches: \"))\n",
    "\n",
    "BMI = (weight * 703) / (height * height)\n",
    "print(BMI)\n",
    "\n",
    "if BMI>0:\n",
    "    if(BMI<18.5):\n",
    "        print(name + \", You are underweight\")\n",
    "    elif(BMI<=24.9):\n",
    "        print(name + \", You are normal weight\")\n",
    "    elif(BMI<29.9):\n",
    "        print(name + \", You are overweight, need to exercise more, it will be good for your health\")\n",
    "    elif(BMI<34.9):\n",
    "        print(name + \", You are obese.\")\n",
    "    elif(BMI<34.9):\n",
    "        print(name + \", You are severely obese.\")\n",
    "    else:\n",
    "        print(name + \", You are Morbidly obese\") \n",
    "else:\n",
    "    print(name + \", Please enter a valid weight and height\")"
   ]
  }
 ],
 "metadata": {
  "kernelspec": {
   "display_name": "base",
   "language": "python",
   "name": "python3"
  },
  "language_info": {
   "codemirror_mode": {
    "name": "ipython",
    "version": 3
   },
   "file_extension": ".py",
   "mimetype": "text/x-python",
   "name": "python",
   "nbconvert_exporter": "python",
   "pygments_lexer": "ipython3",
   "version": "3.12.7"
  }
 },
 "nbformat": 4,
 "nbformat_minor": 2
}
